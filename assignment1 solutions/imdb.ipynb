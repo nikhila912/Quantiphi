#!/usr/bin/env python3
# -*- coding: utf-8 -*-
"""
Created on Mon Jul  9 14:35:12 2018

@author: nikhila
"""
import numpy as np
import pandas as pd
import matplotlib.pyplot as plt


#Read the csv file
RawData = pd.read_csv('/home/nikhila/assignment1/imdbdata.csv')
print(RawData.shape)
